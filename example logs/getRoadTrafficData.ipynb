{
 "cells": [
  {
   "cell_type": "code",
   "execution_count": 1,
   "id": "d2a67fa8-e030-4e38-9a62-04e6e99d8a8f",
   "metadata": {},
   "outputs": [],
   "source": [
    "## libraries & dataset\n",
    "import seaborn as sns\n",
    "import matplotlib.pyplot as plt\n",
    "import mplcursors\n",
    "import csv, pandas as pd\n",
    "from datetime import datetime, timedelta"
   ]
  },
  {
   "cell_type": "code",
   "execution_count": 2,
   "id": "ae2be84b-ae97-42e8-921e-d3b8ef057f81",
   "metadata": {},
   "outputs": [],
   "source": [
    "# files\n",
    "roadTrafficFiles=['road_traffic_full.csv']\n",
    "\n",
    "roadTrafficPath='./Road Traffic/'\n",
    "\n",
    "filepath = roadTrafficPath+roadTrafficFiles[0]\n",
    "\n",
    "formats = ['%Y-%m-%dT%H:%M:%S', '%m/%d/%Y %H:%M:%S', '%d/%m/%Y %H:%M:%S', '%d/%m/%Y %H:%M']\n",
    "\n",
    "datetimeFormat = formats[3]"
   ]
  },
  {
   "cell_type": "code",
   "execution_count": null,
   "id": "f7017baf-89b4-48b5-82fe-0b6a831e571a",
   "metadata": {},
   "outputs": [],
   "source": [
    "df = pd.DataFrame([], columns=['case', 'activity', 'time'])\n",
    "with open(filepath) as csv_file:\n",
    "    csv_reader = csv.reader(csv_file, delimiter=',')\n",
    "    line_count = 0\n",
    "    header = []\n",
    "    for row in csv_reader:\n",
    "        if line_count == 0:\n",
    "            line_count += 1\n",
    "            header = row\n",
    "            #print(\"Headers: \", row)\n",
    "        else:\n",
    "            df = df.append(pd.DataFrame([row], columns=header),ignore_index=True)\n",
    "            line_count += 1\n",
    "#print(df.info())"
   ]
  },
  {
   "cell_type": "code",
   "execution_count": null,
   "id": "6abc9800-0b67-45dd-9527-c740298d5a19",
   "metadata": {},
   "outputs": [],
   "source": [
    "##Sorting DataFrame by Case then Time.\n",
    "df = df.sort_values(['case','time'], ascending=[True, True])\n",
    "# print(df)\n",
    "\n",
    "#minute or Hour?\n",
    "# minuteFlag = True\n",
    "# divisor = 60 if minuteFlag else 3600\n",
    "# timeLabel = 'Time (Minutes)' if minuteFlag else'Time (Hour)'\n",
    "\n",
    "divisor = 1\n",
    "timeLabel = 'Time (Seconds)'\n",
    "\n",
    "## group by case\n",
    "listA = df.groupby([\"case\"])\n",
    "links__ = []\n",
    "timediff__ = []\n",
    "for cases in df['case'].unique():\n",
    "    temp__ = []\n",
    "    time__ = []\n",
    "    temp__.append(listA.get_group(cases)[\"activity\"])\n",
    "    time__.append(listA.get_group(cases)[\"time\"]) \n",
    "    for idx, val in temp__[0].iteritems():\n",
    "        nextIndex = idx +1\n",
    "        if nextIndex not in temp__[0].index:\n",
    "            break\n",
    "        else:\n",
    "            links__.append({\"source\": val, \"target\": temp__[0][nextIndex]})\n",
    "    for idx, val in time__[0].iteritems():\n",
    "        nextIndex = idx +1\n",
    "        if nextIndex not in time__[0].index:\n",
    "            break\n",
    "        else:\n",
    "            timeDiffTemp__ = datetime.strptime(time__[0][nextIndex],datetimeFormat) - datetime.strptime(val,datetimeFormat)\n",
    "            timediff__.append({\"time\": timeDiffTemp__.total_seconds()/divisor})\n",
    "\n",
    "print('####')"
   ]
  },
  {
   "cell_type": "code",
   "execution_count": null,
   "id": "42f8d0f4-6aa4-46eb-9be8-2dcd524f55ba",
   "metadata": {},
   "outputs": [],
   "source": [
    "for val in range(0,len(links__)):    \n",
    "    links__[val].update(timediff__[val])\n",
    "    links__[val].update({'edge': links__[val]['source']+'>'+links__[val]['target']})\n",
    "# print()"
   ]
  },
  {
   "cell_type": "code",
   "execution_count": null,
   "id": "342b2498-2552-467c-9f39-b709b906bfe8",
   "metadata": {},
   "outputs": [],
   "source": [
    "link = pd.DataFrame(links__)\n",
    "# print(links__)\n",
    "link.head()"
   ]
  },
  {
   "cell_type": "code",
   "execution_count": null,
   "id": "91d7a88a",
   "metadata": {
    "scrolled": true
   },
   "outputs": [],
   "source": [
    "print('###### Before Filtering Statistics : ')\n",
    "print(link['time'].describe())"
   ]
  },
  {
   "cell_type": "code",
   "execution_count": null,
   "id": "53d753a0-eb6e-4910-a0b1-b731c531b48d",
   "metadata": {},
   "outputs": [],
   "source": [
    "## let us define a delta to check if the process has sub-divisions based on the time duration\n",
    "# time in minutes/seconds; check minuteFlag section\n",
    "timeDeltaCheck = 0\n",
    "link = link[(link['time'] > timeDeltaCheck)]"
   ]
  },
  {
   "cell_type": "code",
   "execution_count": null,
   "id": "c2e0532c-8592-48d1-937e-6bc48b64b6ba",
   "metadata": {},
   "outputs": [],
   "source": [
    "print('######')\n",
    "print(link['time'].describe())"
   ]
  },
  {
   "cell_type": "code",
   "execution_count": null,
   "id": "95b36f04-8e59-4418-bf7f-8980dd5b665a",
   "metadata": {},
   "outputs": [],
   "source": [
    "# set a grey background (use sns.set_theme() if seaborn version 0.11.0 or above) \n",
    "sns.set(style=\"darkgrid\")\n",
    "# plt.figure(figsize=(8,3))\n",
    "# figA = sns.boxplot(x=link['source'], y=link['time'])\n",
    "# plt.show()\n",
    "# figB = sns.boxplot(x=link['target'], y=link['time'])\n",
    "# plt.show()\n",
    "# hue=link['edge'],"
   ]
  },
  {
   "cell_type": "code",
   "execution_count": null,
   "id": "e80d7578-705d-4d54-8ea5-f4fb00b25c7b",
   "metadata": {
    "tags": []
   },
   "outputs": [],
   "source": [
    "figX = sns.histplot(x=link['time'], stat=\"count\", bins=100)\n",
    "figX.set(xlabel=timeLabel)\n",
    "plt.show()"
   ]
  },
  {
   "cell_type": "code",
   "execution_count": null,
   "id": "67750e7e-afda-4cc7-bda3-add52f563e67",
   "metadata": {},
   "outputs": [],
   "source": [
    "figC = sns.boxplot(x=link['edge'], y=link['time'])\n",
    "plt.xticks(rotation=50, ha=\"right\", fontsize=7)\n",
    "figC.set(ylabel=timeLabel)\n",
    "hoverText = mplcursors.cursor(figC, hover=True)\n",
    "# hoverText.connect(\"add\", lambda sel: sel.annotation.set_text(\n",
    "#     'Edge {},{}'.format(link['edge'][sel.target[0]], sel.target[1])))\n",
    "plt.show()"
   ]
  },
  {
   "cell_type": "code",
   "execution_count": null,
   "id": "4e8dea09-099d-4262-a572-eea0f6cc15ee",
   "metadata": {},
   "outputs": [],
   "source": [
    "figBox = sns.boxplot(y=link['time'], showfliers=False)\n",
    "plt.xticks(rotation=50, ha=\"right\", fontsize=7)\n",
    "figBox.set(ylabel=timeLabel)\n",
    "hoverText = mplcursors.cursor(figBox, hover=True)\n",
    "plt.show()"
   ]
  },
  {
   "cell_type": "code",
   "execution_count": null,
   "id": "891c3d97-742e-4891-b497-bedb3ce3398d",
   "metadata": {},
   "outputs": [],
   "source": [
    "figY = sns.histplot(x=link['edge'], stat=\"count\")\n",
    "figY.set(xlabel='Edge')\n",
    "hoverText = mplcursors.cursor(figY, hover=True)\n",
    "plt.xticks(rotation=50, ha=\"right\", fontsize=7)\n",
    "plt.show()"
   ]
  },
  {
   "cell_type": "code",
   "execution_count": null,
   "id": "0a17a8c8-bad1-44ea-a466-76daed9a8f60",
   "metadata": {},
   "outputs": [],
   "source": [
    "# g = sns.FacetGrid(link, col=\"source\",  row=\"target\")\n",
    "# g = g.map(sns.histplot, 'time')"
   ]
  },
  {
   "cell_type": "code",
   "execution_count": null,
   "id": "c5004302-1959-43d5-b82d-8619d22ad1a9",
   "metadata": {},
   "outputs": [],
   "source": [
    "# to find the top frequent edges\n",
    "n = 10\n",
    "link['edge'].value_counts()[:n]"
   ]
  }
 ],
 "metadata": {
  "kernelspec": {
   "display_name": "Python 3",
   "language": "python",
   "name": "python3"
  },
  "language_info": {
   "codemirror_mode": {
    "name": "ipython",
    "version": 3
   },
   "file_extension": ".py",
   "mimetype": "text/x-python",
   "name": "python",
   "nbconvert_exporter": "python",
   "pygments_lexer": "ipython3",
   "version": "3.7.4"
  }
 },
 "nbformat": 4,
 "nbformat_minor": 5
}
