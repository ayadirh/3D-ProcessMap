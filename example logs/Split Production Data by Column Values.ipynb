{
 "cells": [
  {
   "cell_type": "code",
   "execution_count": 5,
   "id": "c6f5b987-2e36-437d-92ca-d1d32650cf8e",
   "metadata": {},
   "outputs": [],
   "source": [
    "## libraries & dataset\n",
    "import csv, pandas as pd\n",
    "from datetime import datetime, timedelta"
   ]
  },
  {
   "cell_type": "code",
   "execution_count": 6,
   "id": "3ee679c0-16fb-4a98-8c60-34b951bb014c",
   "metadata": {},
   "outputs": [],
   "source": [
    "production_data = './Production_Data/'\n",
    "\n",
    "filepath = production_data+'Production_Data.csv'\n",
    "\n",
    "formats = ['%Y-%m-%dT%H:%M:%S', '%m/%d/%Y %H:%M:%S', '%d/%m/%Y %H:%M:%S', '%d/%m/%Y %H:%M', '%d/%m/%Y']\n",
    "datetimeFormat = formats[2]"
   ]
  },
  {
   "cell_type": "code",
   "execution_count": 7,
   "id": "09d5b12f",
   "metadata": {},
   "outputs": [],
   "source": [
    "df = pd.DataFrame([], columns=['Case ID','Activity','Resource','Start Timestamp','Complete Timestamp','Span','Work Order  Qty','Part Desc.','Worker ID','Report Type','Qty Completed','Qty Rejected','Qty for MRB','Rework'])\n",
    "\n",
    "# https://stackoverflow.com/questions/11622652/large-persistent-dataframe-in-pandas\n",
    "tp = pd.read_csv(filepath, iterator=True, chunksize=1000)  # gives TextFileReader, which is iterable with chunks of 1000 rows.\n",
    "df = pd.concat(tp, ignore_index=True)  # df is DataFrame. If errors, do `list(tp)` instead of `tp`"
   ]
  },
  {
   "cell_type": "code",
   "execution_count": 8,
   "id": "5df5e818",
   "metadata": {},
   "outputs": [],
   "source": [
    "# converting the string to datetime format\n",
    "df['Start Timestamp'] = pd.to_datetime(df['Start Timestamp'],format=datetimeFormat)\n",
    "df['Start Timestamp'] = df['Start Timestamp'].dt.strftime('%Y-%m-%dT%H:%M:%SZ')\n",
    "\n",
    "df['Complete Timestamp'] = pd.to_datetime(df['Complete Timestamp'],format=datetimeFormat)\n",
    "df['Complete Timestamp'] = df['Complete Timestamp'].dt.strftime('%Y-%m-%dT%H:%M:%SZ')"
   ]
  },
  {
   "cell_type": "code",
   "execution_count": 9,
   "id": "0c221ac1-cdc9-4747-a314-e38eba20b851",
   "metadata": {
    "scrolled": true
   },
   "outputs": [
    {
     "name": "stdout",
     "output_type": "stream",
     "text": [
      "      Case ID                       Activity                       Resource  \\\n",
      "0      Case 1  Turning & Milling - Machine 4  Machine 4 - Turning & Milling   \n",
      "1      Case 1  Turning & Milling - Machine 4  Machine 4 - Turning & Milling   \n",
      "2      Case 1  Turning & Milling - Machine 4  Machine 4 - Turning & Milling   \n",
      "3      Case 1  Turning & Milling - Machine 4  Machine 4 - Turning & Milling   \n",
      "4      Case 1         Turning & Milling Q.C.                Quality Check 1   \n",
      "...       ...                            ...                            ...   \n",
      "4538  Case 99      Laser Marking - Machine 7       Machine 7- Laser Marking   \n",
      "4539  Case 99            Lapping - Machine 1            Machine 1 - Lapping   \n",
      "4540  Case 99          Final Inspection Q.C.                Quality Check 1   \n",
      "4541  Case 99          Final Inspection Q.C.                Quality Check 1   \n",
      "4542  Case 99                        Packing                        Packing   \n",
      "\n",
      "           Start Timestamp    Complete Timestamp    Span  Work Order  Qty  \\\n",
      "0     2012-01-29T23:24:00Z  2012-01-30T05:43:00Z  006:19               10   \n",
      "1     2012-01-30T05:44:00Z  2012-01-30T06:42:00Z  000:58               10   \n",
      "2     2012-01-30T06:59:00Z  2012-01-30T07:21:00Z  000:22               10   \n",
      "3     2012-01-30T07:21:00Z  2012-01-30T10:58:00Z  003:37               10   \n",
      "4     2012-01-31T13:20:00Z  2012-01-31T14:50:00Z  001:30               10   \n",
      "...                    ...                   ...     ...              ...   \n",
      "4538  2012-03-26T09:14:00Z  2012-03-26T10:12:00Z  000:58              507   \n",
      "4539  2012-03-26T10:12:00Z  2012-03-26T12:12:00Z  002:00              507   \n",
      "4540  2012-03-28T17:35:00Z  2012-03-28T17:59:00Z  000:24              507   \n",
      "4541  2012-03-29T08:00:00Z  2012-03-29T11:54:00Z  003:54              507   \n",
      "4542  2012-03-30T00:00:00Z  2012-03-30T01:00:00Z  000:00              507   \n",
      "\n",
      "      Part Desc. Worker ID Report Type  Qty Completed  Qty Rejected  \\\n",
      "0     Cable Head    ID4932           S              1             0   \n",
      "1     Cable Head    ID4932           D              1             0   \n",
      "2     Cable Head    ID4167           S              0             0   \n",
      "3     Cable Head    ID4167           D              8             0   \n",
      "4     Cable Head    ID4163           D              9             1   \n",
      "...          ...       ...         ...            ...           ...   \n",
      "4538       Drill    ID0998           D            160             0   \n",
      "4539       Drill    ID0998           D            160             0   \n",
      "4540       Drill    ID4618           D              0             0   \n",
      "4541       Drill    ID4618           D            160             0   \n",
      "4542       Drill    ID4820           D            160             0   \n",
      "\n",
      "      Qty for MRB Rework  \n",
      "0               0    NaN  \n",
      "1               0    NaN  \n",
      "2               0    NaN  \n",
      "3               0    NaN  \n",
      "4               0    NaN  \n",
      "...           ...    ...  \n",
      "4538            0    NaN  \n",
      "4539            0    NaN  \n",
      "4540            0    NaN  \n",
      "4541            0    NaN  \n",
      "4542            0    NaN  \n",
      "\n",
      "[4543 rows x 14 columns]\n"
     ]
    }
   ],
   "source": [
    "print(df)"
   ]
  },
  {
   "cell_type": "code",
   "execution_count": 10,
   "id": "2a9282bf-fcca-4644-86b8-7ff4ba11efe8",
   "metadata": {},
   "outputs": [],
   "source": [
    "##Sorting DataFrame by Case then Time.\n",
    "df = df.sort_values(['Case ID','Start Timestamp','Complete Timestamp'], ascending=[True, True, True])"
   ]
  },
  {
   "cell_type": "code",
   "execution_count": 13,
   "id": "3f34c024",
   "metadata": {},
   "outputs": [],
   "source": [
    "parts = df['Part Desc.'].unique()\n",
    "for i in parts:\n",
    "    df[df['Part Desc.'] == i].to_csv(production_data+'/try/ProductionData_'+i+'_.csv', sep=',', index=False)"
   ]
  },
  {
   "cell_type": "code",
   "execution_count": null,
   "id": "d789b224",
   "metadata": {},
   "outputs": [],
   "source": []
  }
 ],
 "metadata": {
  "kernelspec": {
   "display_name": "Python 3",
   "language": "python",
   "name": "python3"
  },
  "language_info": {
   "codemirror_mode": {
    "name": "ipython",
    "version": 3
   },
   "file_extension": ".py",
   "mimetype": "text/x-python",
   "name": "python",
   "nbconvert_exporter": "python",
   "pygments_lexer": "ipython3",
   "version": "3.7.4"
  }
 },
 "nbformat": 4,
 "nbformat_minor": 5
}
