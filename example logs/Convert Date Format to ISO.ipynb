{
 "cells": [
  {
   "cell_type": "code",
   "execution_count": 1,
   "id": "c6f5b987-2e36-437d-92ca-d1d32650cf8e",
   "metadata": {},
   "outputs": [],
   "source": [
    "## libraries & dataset\n",
    "import csv, pandas as pd\n",
    "from datetime import datetime, timedelta"
   ]
  },
  {
   "cell_type": "code",
   "execution_count": 2,
   "id": "3ee679c0-16fb-4a98-8c60-34b951bb014c",
   "metadata": {},
   "outputs": [],
   "source": [
    "roadTrafficFiles=['road_traffic_partial.csv','road_traffic_full.csv']\n",
    "roadTrafficPath='./Road Traffic/'\n",
    "# filepath = roadTrafficPath+roadTrafficFiles[1]\n",
    "helpdesk = './helpdesk/chunks/'\n",
    "production_data = './Production_Data/chunks/'\n",
    "\n",
    "filepath = production_data+'all.csv'\n",
    "\n",
    "formats = ['%Y-%m-%dT%H:%M:%S', '%m/%d/%Y %H:%M:%S', '%d/%m/%Y %H:%M:%S', '%d/%m/%Y %H:%M', '%d/%m/%Y']\n",
    "datetimeFormat = formats[2]"
   ]
  },
  {
   "cell_type": "code",
   "execution_count": 3,
   "id": "09d5b12f",
   "metadata": {},
   "outputs": [],
   "source": [
    "df = pd.DataFrame([], columns=['case', 'activity', 'time'])\n",
    "# https://stackoverflow.com/questions/11622652/large-persistent-dataframe-in-pandas\n",
    "tp = pd.read_csv(filepath, iterator=True, chunksize=1000)  # gives TextFileReader, which is iterable with chunks of 1000 rows.\n",
    "df = pd.concat(tp, ignore_index=True)  # df is DataFrame. If errors, do `list(tp)` instead of `tp`"
   ]
  },
  {
   "cell_type": "code",
   "execution_count": 4,
   "id": "5df5e818",
   "metadata": {},
   "outputs": [],
   "source": [
    "# converting the string to datetime format\n",
    "df['time'] = pd.to_datetime(df['time'],format=datetimeFormat)\n",
    "df['time'] = df['time'].dt.strftime('%Y-%m-%dT%H:%M:%SZ')"
   ]
  },
  {
   "cell_type": "code",
   "execution_count": 5,
   "id": "0c221ac1-cdc9-4747-a314-e38eba20b851",
   "metadata": {},
   "outputs": [
    {
     "name": "stdout",
     "output_type": "stream",
     "text": [
      "         case                       activity                  time\n",
      "0      Case 1  Turning & Milling - Machine 4  2012-01-02T00:00:00Z\n",
      "1      Case 1  Turning & Milling - Machine 4  2012-01-02T00:00:00Z\n",
      "2      Case 1  Turning & Milling - Machine 4  2012-01-02T01:00:00Z\n",
      "3      Case 1  Turning & Milling - Machine 4  2012-01-02T07:00:00Z\n",
      "4      Case 1         Turning & Milling Q.C.  2012-01-02T07:00:00Z\n",
      "...       ...                            ...                   ...\n",
      "4538  Case 99      Laser Marking - Machine 7  2012-03-30T10:55:00Z\n",
      "4539  Case 99            Lapping - Machine 1  2012-03-30T11:14:00Z\n",
      "4540  Case 99          Final Inspection Q.C.  2012-03-30T11:31:00Z\n",
      "4541  Case 99          Final Inspection Q.C.  2012-03-30T22:00:00Z\n",
      "4542  Case 99                        Packing  2012-03-30T23:43:00Z\n",
      "\n",
      "[4543 rows x 3 columns]\n"
     ]
    }
   ],
   "source": [
    "print(df)"
   ]
  },
  {
   "cell_type": "code",
   "execution_count": 6,
   "id": "2a9282bf-fcca-4644-86b8-7ff4ba11efe8",
   "metadata": {},
   "outputs": [],
   "source": [
    "##Sorting DataFrame by Case then Time.\n",
    "df = df.sort_values(['case','time'], ascending=[True, True])"
   ]
  },
  {
   "cell_type": "code",
   "execution_count": 7,
   "id": "3f34c024",
   "metadata": {},
   "outputs": [
    {
     "name": "stdout",
     "output_type": "stream",
     "text": [
      "count                     4543\n",
      "unique                    3743\n",
      "top       2012-02-21T00:00:00Z\n",
      "freq                        17\n",
      "Name: time, dtype: object\n"
     ]
    }
   ],
   "source": [
    "print(df['time'].describe())"
   ]
  },
  {
   "cell_type": "code",
   "execution_count": 8,
   "id": "06fcc912-ea48-40e0-82e3-d4500f892ec9",
   "metadata": {},
   "outputs": [],
   "source": [
    "df.to_csv(production_data+'all_formated.csv', sep=',', index=False)"
   ]
  },
  {
   "cell_type": "code",
   "execution_count": 9,
   "id": "bbb95260-446f-459f-84fc-2b1b23fc5559",
   "metadata": {},
   "outputs": [],
   "source": [
    "# output.head(1000).to_csv('./aeroplane/aeroplane_output_sampled2000.csv', sep=',', index=False)"
   ]
  }
 ],
 "metadata": {
  "kernelspec": {
   "display_name": "Python 3",
   "language": "python",
   "name": "python3"
  },
  "language_info": {
   "codemirror_mode": {
    "name": "ipython",
    "version": 3
   },
   "file_extension": ".py",
   "mimetype": "text/x-python",
   "name": "python",
   "nbconvert_exporter": "python",
   "pygments_lexer": "ipython3",
   "version": "3.7.4"
  }
 },
 "nbformat": 4,
 "nbformat_minor": 5
}
