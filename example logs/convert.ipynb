{
 "cells": [
  {
   "cell_type": "code",
   "execution_count": 174,
   "id": "c6f5b987-2e36-437d-92ca-d1d32650cf8e",
   "metadata": {},
   "outputs": [],
   "source": [
    "## libraries & dataset\n",
    "import seaborn as sns\n",
    "import matplotlib.pyplot as plt\n",
    "import mplcursors\n",
    "import csv, pandas as pd\n",
    "from datetime import datetime, timedelta"
   ]
  },
  {
   "cell_type": "code",
   "execution_count": 175,
   "id": "3ee679c0-16fb-4a98-8c60-34b951bb014c",
   "metadata": {},
   "outputs": [],
   "source": [
    "filepath = \"./aeroplane/aeroplane.csv\"\n",
    "formats = ['%Y-%m-%dT%H:%M:%S', '%m/%d/%Y %H:%M:%S', '%d/%m/%Y %H:%M:%S', '%d/%m/%Y %H:%M', '%d/%m/%Y']\n",
    "datetimeFormat = formats[4]"
   ]
  },
  {
   "cell_type": "code",
   "execution_count": 176,
   "id": "e95b7bf0-56f9-4965-9dbb-69848112a8e1",
   "metadata": {},
   "outputs": [],
   "source": [
    "def numbersToHour(dateIn):\n",
    "    x_ = list(dateIn)\n",
    "#     zero padding\n",
    "#     print('check --', x_)\n",
    "    if(x_[0][-2:-1] == \"\"):\n",
    "        return(\"00:0\"+x_[0][-1:])\n",
    "    elif(x_[0][-3:-2] == \"\"):\n",
    "        return(\"00:\"+x_[0][-2:])\n",
    "    elif (x_[0][-4:-3] == \"\"):\n",
    "        return(\"0\"+x_[0][-3:-2]+\":\"+x_[0][-2:])\n",
    "    else:\n",
    "        return (x_[0][-4:-2]+\":\"+x_[0][-2:])"
   ]
  },
  {
   "cell_type": "code",
   "execution_count": 187,
   "id": "065d866d-e8be-4d92-a5ff-082137a8f098",
   "metadata": {},
   "outputs": [
    {
     "name": "stdout",
     "output_type": "stream",
     "text": [
      "<class 'pandas.core.frame.DataFrame'>\n",
      "RangeIndex: 51570 entries, 0 to 51569\n",
      "Data columns (total 9 columns):\n",
      " #   Column                 Non-Null Count  Dtype \n",
      "---  ------                 --------------  ----- \n",
      " 0   fl_date                51570 non-null  object\n",
      " 1   case                   51570 non-null  object\n",
      " 2   origin                 51570 non-null  object\n",
      " 3   dest                   51570 non-null  object\n",
      " 4   dep_time               51570 non-null  object\n",
      " 5   arr_time               51570 non-null  object\n",
      " 6   op_carrier_airline_id  51570 non-null  object\n",
      " 7   tail_num               51570 non-null  object\n",
      " 8   op_carrier_fl_num      51570 non-null  object\n",
      "dtypes: object(9)\n",
      "memory usage: 3.5+ MB\n",
      "None\n"
     ]
    }
   ],
   "source": [
    "df = pd.DataFrame([], columns=['fl_date','case','origin','dest','dep_time','arr_time'])\n",
    "europeanAirports = [\"EKYT\", \"EGPD\", \"LEMD\", \"LEAL\", \"EHAM\", \"LFOA\", \"LEBL\", \"LIBD\", \"EGAA\", \"LYBE\", \"ENBR\", \"EDDB\", \"EDDT\", \"EKBI\", \"EGBB\", \"ENBO\", \"LIPE\", \"LFBD\", \"UWKG\", \"UKBB\", \"EGHH\", \"EDDW\", \"EGGD\", \"EBBR\", \"EBCI\", \"LHBP\", \"LBBG\", \"LIEE\", \"EGFF\", \"LICC\", \"LFPG\", \"LIRA\", \"EDDK\", \"EKCH\", \"EPWR\", \"EICK\", \"UUDD\", \"EDLW\", \"EDDC\", \"EIDW\", \"EDDL\", \"EGNX\", \"EGPH\", \"EHEH\", \"LGAV\", \"LFSB\", \"EGTE\", \"LICJ\", \"LPFR\", \"LPPR\", \"EDDF\", \"EPGD\", \"LSGG\", \"LIMJ\", \"EGAC\", \"EGPF\", \"ESGG\", \"GCLP\", \"URMG\", \"EDDH\", \"EDDV\", \"EFHK\", \"LROP\", \"LGIR\", \"LPPT\", \"LIME\", \"LPPD\", \"EDSB\", \"EPKT\", \"UWKD\", \"BIKF\", \"UKHH\", \"EPKK\", \"UWWW\", \"GCLA\", \"LPLA\", \"EGNM\", \"EDDP\", \"EETN\", \"LIRF\", \"EBLG\", \"EGGP\", \"LJLJ\", \"EGKK\", \"EGLL\", \"EGGW\", \"EGSS\", \"ESPA\", \"ELLX\", \"LFLL\", \"LZIB\", \"LEMG\", \"ESMS\", \"LIMC\", \"LMML\", \"EGCC\", \"LFML\", \"LIML\", \"UMMS\", \"EPMO\", \"EDDM\", \"EDDG\", \"LIRN\", \"EGNT\", \"LFMN\", \"EGSH\", \"EDDN\", \"UKOO\", \"ENGM\", \"LEPA\", \"LFPO\", \"LIRP\", \"URRP\", \"LYPG\", \"EPPO\", \"BKPR\", \"ULLI\", \"LCRA\", \"EGVN\", \"EGVA\", \"EGUL\", \"EGUN\", \"ETAR\", \"EVRA\", \"EGCN\", \"LEST\", \"LQSA\", \"EINN\", \"UUEE\", \"UKFF\", \"LWSK\", \"URSS\", \"LBSF\", \"EGHI\", \"ENZV\", \"ESSA\", \"EDDS\", \"GCXO\", \"GCTS\", \"LGTS\", \"LATI\", \"LFBO\", \"LIPH\", \"ENTC\", \"ENVA\", \"LIMF\", \"UWUU\", \"LKPR\", \"LBWN\", \"LIPZ\", \"LIPX\", \"LOWW\", \"EYVI\", \"UUWW\", \"EPWA\", \"UNKL\", \"LDZA\", \"UUBW\", \"LSZH\"]\n",
    "usTop10 = [\"DEN\", \"DFW\", \"MCO\", \"IAD\", \"IAH\", \"ORD\", \"SLC\", \"JFK\", \"SFO\", \"DTW\"]\n",
    "usTop30=[\"ATL\", \"DFW\", \"DEN\", \"ORD\", \"LAX\", \"CLT\", \"LAS\", \"PHX\", \"MCO\", \"SEA\", \"MIA\", \"IAH\", \"FLL\", \"SFO\", \"JFK\", \"MSP\", \"EWR\", \"DTW\", \"BOS\", \"SLC\", \"PHL\", \"BWI\", \"TPA\", \"SAN\", \"MDW\", \"IAD\", \"BNA\", \"LGA\", \"DAL\", \"DCA\", \"PDX\"]\n",
    "usSel20=[\"ATL\", \"DFW\", \"DEN\", \"ORD\", \"LAX\", \"CLT\", \"LAS\", \"PHX\", \"MCO\", \"SEA\", \"MIA\", \"IAH\", \"FLL\", \"SFO\", \"JFK\", \"MSP\", \"EWR\", \"DTW\", \"BOS\", \"SLC\", \"PHL\"]\n",
    "usSel=[\"ATL\", \"DFW\", \"DEN\", \"ORD\", \"LAX\", \"CLT\", \"LAS\", \"PHX\", \"MCO\", \"SEA\", \"MIA\", \"IAH\", \"FLL\", \"SFO\", \"JFK\"]\n",
    "output_headers = ['case','activity','time']\n",
    "output = pd.DataFrame([], columns=output_headers)\n",
    "with open(filepath) as csv_file:\n",
    "    csv_reader = csv.reader(csv_file, delimiter=',')\n",
    "    line_count = 0\n",
    "    header = []\n",
    "    for row in csv_reader:\n",
    "        if line_count == 0:\n",
    "            line_count += 1\n",
    "            header = row\n",
    "            #print(\"Headers: \", row)\n",
    "        else:\n",
    "            temp_list = []\n",
    "            temp__ = pd.DataFrame([row], columns=header)\n",
    "            if(temp__['origin'].iloc[0] not in (usTop10)):\n",
    "                continue\n",
    "            if(temp__['dest'].iloc[0] not in (usSel)):\n",
    "                continue\n",
    "            x_ = list(temp__['dep_time'])\n",
    "            dep_time = numbersToHour(temp__['dep_time'])\n",
    "            arr_time = numbersToHour(temp__['arr_time'])\n",
    "            if(dep_time == \"24:00\"):\n",
    "                dep_time = \"00:00\"\n",
    "            if(arr_time == \"24:00\"):\n",
    "                arr_time = \"00:00\"\n",
    "            a = datetime.strptime(dep_time,'%H:%M')\n",
    "            b = datetime.strptime(arr_time,'%H:%M')\n",
    "#             print(a,b, a>b)\n",
    "            if(a>b):\n",
    "                tempX = datetime.strptime(temp__['fl_date'].iloc[0], '%d/%m/%Y')+timedelta(days=1)\n",
    "#                 print(tempX.strftime('%d/%m/%Y'))\n",
    "#                 tempX.strftime('%d/%m/%Y')\n",
    "                day = tempX.strftime('%d/%m/%Y')\n",
    "            else:\n",
    "                day = temp__['fl_date'].iloc[0]\n",
    "            date_origin = datetime.strptime(day+\" \"+dep_time, '%d/%m/%Y %H:%M').isoformat()\n",
    "            date_dest = datetime.strptime(day+\" \"+arr_time, '%d/%m/%Y %H:%M').isoformat()\n",
    "            \n",
    "            temp_list.append([temp__['case'].iloc[0],temp__['origin'].iloc[0],date_origin])\n",
    "            temp_origin = pd.DataFrame(temp_list, columns=output_headers)\n",
    "            temp_list = []\n",
    "            temp_list.append([temp__['case'].iloc[0],temp__['dest'].iloc[0],date_dest])\n",
    "            temp_dest = pd.DataFrame(temp_list, columns=output_headers)\n",
    "            output=output.append(temp_origin,ignore_index=True)\n",
    "            output=output.append(temp_dest,ignore_index=True)\n",
    "            df = df.append(temp__,ignore_index=True)\n",
    "            line_count += 1\n",
    "print(df.info())\n",
    "# df = df.loc[df['origin'].isin(usTop10)]\n",
    "# df = df.loc[df['dest'].isin(usTop30)]"
   ]
  },
  {
   "cell_type": "code",
   "execution_count": 188,
   "id": "0c221ac1-cdc9-4747-a314-e38eba20b851",
   "metadata": {},
   "outputs": [
    {
     "name": "stdout",
     "output_type": "stream",
     "text": [
      "                     case activity                 time\n",
      "0       19805_N956AN_1587      JFK  2018-08-01T16:49:00\n",
      "1       19805_N956AN_1587      PHX  2018-08-01T20:06:00\n",
      "2       19805_N924NN_1594      DTW  2018-08-01T11:51:00\n",
      "3       19805_N924NN_1594      ORD  2018-08-01T12:24:00\n",
      "4       19805_N189AN_1610      JFK  2018-08-01T08:01:00\n",
      "...                   ...      ...                  ...\n",
      "103135  19930_N624VA_1972      LAX  2018-08-31T11:42:00\n",
      "103136  19805_N971AN_2357      SLC  2018-08-31T15:27:00\n",
      "103137  19805_N971AN_2357      DFW  2018-08-31T18:57:00\n",
      "103138  19805_N831AA_2360      DFW  2018-08-31T19:07:00\n",
      "103139  19805_N831AA_2360      LAX  2018-08-31T20:09:00\n",
      "\n",
      "[103140 rows x 3 columns]\n"
     ]
    }
   ],
   "source": [
    "print(output)"
   ]
  },
  {
   "cell_type": "code",
   "execution_count": 189,
   "id": "2a9282bf-fcca-4644-86b8-7ff4ba11efe8",
   "metadata": {},
   "outputs": [],
   "source": [
    "##Sorting DataFrame by Case then Time.\n",
    "output = output.sort_values(['case','time'], ascending=[True, True])"
   ]
  },
  {
   "cell_type": "code",
   "execution_count": 190,
   "id": "06fcc912-ea48-40e0-82e3-d4500f892ec9",
   "metadata": {},
   "outputs": [],
   "source": [
    "output.to_csv('./aeroplane/aeroplane_output.csv', sep=',', index=False)"
   ]
  },
  {
   "cell_type": "code",
   "execution_count": 191,
   "id": "bbb95260-446f-459f-84fc-2b1b23fc5559",
   "metadata": {},
   "outputs": [],
   "source": [
    "output.head(1000).to_csv('./aeroplane/aeroplane_output_sampled2000.csv', sep=',', index=False)"
   ]
  },
  {
   "cell_type": "code",
   "execution_count": null,
   "id": "281b0785-c158-4cd3-ba8d-54841732ce72",
   "metadata": {},
   "outputs": [],
   "source": []
  }
 ],
 "metadata": {
  "kernelspec": {
   "display_name": "Python 3",
   "language": "python",
   "name": "python3"
  },
  "language_info": {
   "codemirror_mode": {
    "name": "ipython",
    "version": 3
   },
   "file_extension": ".py",
   "mimetype": "text/x-python",
   "name": "python",
   "nbconvert_exporter": "python",
   "pygments_lexer": "ipython3",
   "version": "3.7.4"
  }
 },
 "nbformat": 4,
 "nbformat_minor": 5
}
